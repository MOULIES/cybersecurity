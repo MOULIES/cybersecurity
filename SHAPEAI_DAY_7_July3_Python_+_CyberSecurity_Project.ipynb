{
  "nbformat": 4,
  "nbformat_minor": 0,
  "metadata": {
    "colab": {
      "name": "SHAPEAI - DAY 7 - July3 - Pyhton + CyberSecurity Project.ipynb",
      "provenance": [],
      "collapsed_sections": []
    },
    "kernelspec": {
      "name": "python3",
      "display_name": "Python 3"
    },
    "language_info": {
      "name": "python"
    }
  },
  "cells": [
    {
      "cell_type": "markdown",
      "metadata": {
        "id": "RCgKgUZPJv2O"
      },
      "source": [
        "### 1. Write a program in python to generate md5 hash of given string"
      ]
    },
    {
      "cell_type": "code",
      "metadata": {
        "id": "7xDSH_ICI-Fo"
      },
      "source": [
        "import hashlib\n",
        "import string\n",
        "import random\n",
        "\n",
        "def md5generate( value ) :\n",
        "  '''\n",
        "  this function is used to generate md5 hash of given string equivalent to Hexadecimal \n",
        "  '''\n",
        "  result = hashlib.md5( str(value).encode() )\n",
        "  return result.hexdigest()\n",
        "  "
      ],
      "execution_count": 1,
      "outputs": []
    },
    {
      "cell_type": "code",
      "metadata": {
        "colab": {
          "base_uri": "https://localhost:8080/"
        },
        "id": "xVZFP-7jYuOo",
        "outputId": "b83213ff-fe7f-4676-ab5f-4dc612510be9"
      },
      "source": [
        "lst = [ \"Eswar Moulies\" ]\n",
        "\n",
        "word = string.ascii_letters+ string.digits + string.punctuation\n",
        "#generate random string of length 15\n",
        "random_string = ''.join(  random.choice( word ) for _ in range(  15 )  )\n",
        "lst.append( random_string )\n",
        "\n",
        "for i in lst:\n",
        "  a = md5generate(i )\n",
        "  print( \"String : {:<15s}  and Hexadecimal equivalent of Hash : {}\".format( i , a))"
      ],
      "execution_count": 2,
      "outputs": [
        {
          "output_type": "stream",
          "text": [
            "String : Eswar Moulies    and Hexadecimal equivalent of Hash : 7c8a5300f43163ab632e1ac64d267c4f\n",
            "String : {kfrt.VUYY8?Hbk  and Hexadecimal equivalent of Hash : ccd4d87c870c99cc7cee7c1a30fef1aa\n"
          ],
          "name": "stdout"
        }
      ]
    },
    {
      "cell_type": "markdown",
      "metadata": {
        "id": "kh5b5mHYUXhc"
      },
      "source": [
        "### 2. Write a program in python to generate hashes of given string using any 3 algorithms from  hashlib module"
      ]
    },
    {
      "cell_type": "code",
      "metadata": {
        "id": "MjrHfICZPqya"
      },
      "source": [
        "def generate_hash_using_any_algorithm( algo, value ):\n",
        "  '''\n",
        "  this function is used to generate hash using input algorithm and returns the hash of given string equivalent to Hexadecimal  \n",
        "  '''\n",
        "  result = eval( \"hashlib.\"+ algo + \"()\" )\n",
        "  result.update( value.encode() )\n",
        "\n",
        "  try:\n",
        "    a = result.hexdigest()\n",
        "  except: \n",
        "    a = result.hexdigest(128)\n",
        "\n",
        "  return a\n"
      ],
      "execution_count": 3,
      "outputs": []
    },
    {
      "cell_type": "code",
      "metadata": {
        "colab": {
          "base_uri": "https://localhost:8080/"
        },
        "id": "3EXo1ZmcRCY0",
        "outputId": "1dcce779-ae49-4eb6-fd2b-0d27942514b2"
      },
      "source": [
        "algos =  hashlib.algorithms_available \n",
        "\n",
        "value = \"Eswar Moulies\"\n",
        "print(\"Given string :\", value)\n",
        "for i in random.sample( algos , 3):\n",
        "  result = generate_hash_using_any_algorithm( i , value )\n",
        "  print()\n",
        "  print( \"Algorithm : {:<10s}  and Hexadecimal equivalent of Hash : {}\".format( i , result ))\n",
        "  \n"
      ],
      "execution_count": 5,
      "outputs": [
        {
          "output_type": "stream",
          "text": [
            "Given string : Eswar Moulies\n",
            "\n",
            "Algorithm : blake2b     and Hexadecimal equivalent of Hash : a22beb0bc78f94a6a856c0eef95550e6aa50151b9b8f4a1c3163014cef28677351ab7fff128529ac7f358ccce1ef9eb8e929241186a36d871089dceef8686861\n",
            "\n",
            "Algorithm : blake2s     and Hexadecimal equivalent of Hash : c079627c6e6520b7e21b03b90b30ee1aba4f63eca4c8439ef87abbe37b966777\n",
            "\n",
            "Algorithm : sha512      and Hexadecimal equivalent of Hash : fe351d45ec7dba4a733e93c3a47f607526fd76991863cb98a0cc588be292dd748ff609d1b17acce5b9999e5bcfbc40b1bfaf7c59ae742607fc6361552c569bc1\n"
          ],
          "name": "stdout"
        }
      ]
    },
    {
      "cell_type": "markdown",
      "metadata": {
        "id": "0JlIiphskxwq"
      },
      "source": [
        "### 3. Add Salting and Iterations to the hashes"
      ]
    },
    {
      "cell_type": "code",
      "metadata": {
        "id": "bS9IPQxTk5eY"
      },
      "source": [
        "def md5generatehash_with_salting_and_iterations( value, salt = \"md5\", iterations = 5):\n",
        "  '''\n",
        "      This function is used to generate hash with Salting and Iteration\n",
        "      salt : default value md5. \n",
        "      iteration : default value 5. \n",
        "  '''\n",
        "  hasher = hashlib.md5( )\n",
        "  hasher.update(salt.encode())\n",
        "  hasher.update(value.encode())\n",
        "  hasher.update(salt.encode())\n",
        "  result = hasher.hexdigest()\n",
        "  for i in range( 1, iterations):\n",
        "    hasher = hashlib.md5( )\n",
        "    hasher.update(result.encode())\n",
        "    result = hasher.hexdigest()\n",
        "\n",
        "  return result\n"
      ],
      "execution_count": 6,
      "outputs": []
    },
    {
      "cell_type": "code",
      "metadata": {
        "colab": {
          "base_uri": "https://localhost:8080/"
        },
        "id": "kxp6BX8cpAXL",
        "outputId": "f13c3a62-d2e7-4028-f31c-dea3b4215258"
      },
      "source": [
        "lst = [ \"Eswar Moulies\" ]\n",
        "\n",
        "word = string.ascii_letters+ string.digits + string.punctuation\n",
        "#generate random string of length 15\n",
        "random_string = ''.join(  random.choice( word ) for _ in range(  15 )  )\n",
        "lst.append( random_string )\n",
        "\n",
        "for i in lst:\n",
        "  a = md5generatehash_with_salting_and_iterations(i , \"sha\", 10 )\n",
        "  print( \"String : {:<15s}  and Hexadecimal equivalent of Hash : {}\".format( i , a))"
      ],
      "execution_count": 7,
      "outputs": [
        {
          "output_type": "stream",
          "text": [
            "String : Eswar Moulies    and Hexadecimal equivalent of Hash : dfb47a36121ba7ed2a72241a55049e94\n",
            "String : wsC%*zV}EP<w+@V  and Hexadecimal equivalent of Hash : b1712b10c811305a6399a357f57ee661\n"
          ],
          "name": "stdout"
        }
      ]
    },
    {
      "cell_type": "code",
      "metadata": {
        "id": "Da80N_YOrWS7"
      },
      "source": [
        ""
      ],
      "execution_count": null,
      "outputs": []
    }
  ]
}